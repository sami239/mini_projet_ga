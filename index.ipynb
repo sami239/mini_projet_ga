{
 "cells": [
  {
   "cell_type": "markdown",
   "metadata": {},
   "source": [
    "mini projet \n",
    "sami bousrih\n",
    "dataset\n",
    "le data set contain de donner dates"
   ]
  },
  {
   "cell_type": "code",
   "execution_count": 4,
   "metadata": {},
   "outputs": [],
   "source": [
    "#importation des bibliotheque\n",
    "import pandas as pd\n",
    "import numpy as np\n",
    "import matplotlib.pyplot as plt"
   ]
  },
  {
   "cell_type": "code",
   "execution_count": 8,
   "metadata": {},
   "outputs": [
    {
     "data": {
      "text/html": [
       "<div>\n",
       "<style scoped>\n",
       "    .dataframe tbody tr th:only-of-type {\n",
       "        vertical-align: middle;\n",
       "    }\n",
       "\n",
       "    .dataframe tbody tr th {\n",
       "        vertical-align: top;\n",
       "    }\n",
       "\n",
       "    .dataframe thead th {\n",
       "        text-align: right;\n",
       "    }\n",
       "</style>\n",
       "<table border=\"1\" class=\"dataframe\">\n",
       "  <thead>\n",
       "    <tr style=\"text-align: right;\">\n",
       "      <th></th>\n",
       "      <th>Year</th>\n",
       "      <th>Decade</th>\n",
       "      <th>Milestone Title</th>\n",
       "      <th>Milestone Event</th>\n",
       "      <th>Why Important</th>\n",
       "      <th>Reference</th>\n",
       "      <th>People Process or Technology Tag</th>\n",
       "    </tr>\n",
       "  </thead>\n",
       "  <tbody>\n",
       "    <tr>\n",
       "      <th>0</th>\n",
       "      <td>1945</td>\n",
       "      <td>1940s</td>\n",
       "      <td>ENIAC</td>\n",
       "      <td>First electronic general-purpose computer = ENIAC</td>\n",
       "      <td>Faster decisions using a computer and mathmatics</td>\n",
       "      <td>https://en.wikipedia.org/wiki/ENIAC</td>\n",
       "      <td>Technology</td>\n",
       "    </tr>\n",
       "    <tr>\n",
       "      <th>1</th>\n",
       "      <td>1945</td>\n",
       "      <td>1940s</td>\n",
       "      <td>John von Neumann / array</td>\n",
       "      <td>John von Neumann creates a merge sort algorith...</td>\n",
       "      <td>Arrays allow mathmatics| grouping and sorting ...</td>\n",
       "      <td>https://en.wikipedia.org/wiki/John_von_Neumann</td>\n",
       "      <td>People</td>\n",
       "    </tr>\n",
       "    <tr>\n",
       "      <th>2</th>\n",
       "      <td>1956</td>\n",
       "      <td>1950s</td>\n",
       "      <td>First Hard Disk</td>\n",
       "      <td>The first computer hard disk used</td>\n",
       "      <td>Storing data for reuse = reduces time to recre...</td>\n",
       "      <td>https://fiftiesweb.com/pop/inventions/</td>\n",
       "      <td>Technology</td>\n",
       "    </tr>\n",
       "    <tr>\n",
       "      <th>3</th>\n",
       "      <td>1958</td>\n",
       "      <td>1950s</td>\n",
       "      <td>Modem</td>\n",
       "      <td>The modem invented</td>\n",
       "      <td>Communication between computers| foundation of...</td>\n",
       "      <td>https://fiftiesweb.com/pop/inventions/</td>\n",
       "      <td>Technology</td>\n",
       "    </tr>\n",
       "    <tr>\n",
       "      <th>4</th>\n",
       "      <td>1961</td>\n",
       "      <td>1960s</td>\n",
       "      <td>John Tukey / data analysis</td>\n",
       "      <td>Statistician John Tukey defined data analysis</td>\n",
       "      <td>Defined the process and procedures of collecti...</td>\n",
       "      <td>https://projecteuclid.org/download/pdf_1/eucli...</td>\n",
       "      <td>People</td>\n",
       "    </tr>\n",
       "  </tbody>\n",
       "</table>\n",
       "</div>"
      ],
      "text/plain": [
       "   Year Decade             Milestone Title  \\\n",
       "0  1945  1940s                       ENIAC   \n",
       "1  1945  1940s    John von Neumann / array   \n",
       "2  1956  1950s             First Hard Disk   \n",
       "3  1958  1950s                       Modem   \n",
       "4  1961  1960s  John Tukey / data analysis   \n",
       "\n",
       "                                     Milestone Event  \\\n",
       "0  First electronic general-purpose computer = ENIAC   \n",
       "1  John von Neumann creates a merge sort algorith...   \n",
       "2                  The first computer hard disk used   \n",
       "3                                 The modem invented   \n",
       "4      Statistician John Tukey defined data analysis   \n",
       "\n",
       "                                       Why Important  \\\n",
       "0   Faster decisions using a computer and mathmatics   \n",
       "1  Arrays allow mathmatics| grouping and sorting ...   \n",
       "2  Storing data for reuse = reduces time to recre...   \n",
       "3  Communication between computers| foundation of...   \n",
       "4  Defined the process and procedures of collecti...   \n",
       "\n",
       "                                           Reference  \\\n",
       "0                https://en.wikipedia.org/wiki/ENIAC   \n",
       "1     https://en.wikipedia.org/wiki/John_von_Neumann   \n",
       "2             https://fiftiesweb.com/pop/inventions/   \n",
       "3             https://fiftiesweb.com/pop/inventions/   \n",
       "4  https://projecteuclid.org/download/pdf_1/eucli...   \n",
       "\n",
       "  People Process or Technology Tag  \n",
       "0                       Technology  \n",
       "1                           People  \n",
       "2                       Technology  \n",
       "3                       Technology  \n",
       "4                           People  "
      ]
     },
     "execution_count": 8,
     "metadata": {},
     "output_type": "execute_result"
    }
   ],
   "source": [
    "df=pd.read_csv('Data/evolution_of_data_analysis.csv',delimiter='|')\n",
    "\n",
    "df.head()"
   ]
  },
  {
   "cell_type": "code",
   "execution_count": null,
   "metadata": {},
   "outputs": [],
   "source": []
  }
 ],
 "metadata": {
  "kernelspec": {
   "display_name": "Python 3.9.12 ('base')",
   "language": "python",
   "name": "python3"
  },
  "language_info": {
   "codemirror_mode": {
    "name": "ipython",
    "version": 3
   },
   "file_extension": ".py",
   "mimetype": "text/x-python",
   "name": "python",
   "nbconvert_exporter": "python",
   "pygments_lexer": "ipython3",
   "version": "3.9.12"
  },
  "orig_nbformat": 4,
  "vscode": {
   "interpreter": {
    "hash": "ad2bdc8ecc057115af97d19610ffacc2b4e99fae6737bb82f5d7fb13d2f2c186"
   }
  }
 },
 "nbformat": 4,
 "nbformat_minor": 2
}
